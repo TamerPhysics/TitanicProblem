{
 "cells": [
  {
   "cell_type": "markdown",
   "metadata": {},
   "source": [
    "# The Titanic survivor problem"
   ]
  },
  {
   "cell_type": "markdown",
   "metadata": {},
   "source": [
    "<p>Here's my approach to the Titanic survivors' <a href=\"https://www.kaggle.com/c/titanic\">problem</a>. </p>"
   ]
  },
  {
   "cell_type": "markdown",
   "metadata": {},
   "source": [
    "<p><strong>Problem:</strong> Essentially, you are given a list of Titanic passengers, with data about their age, gender, what social class they belong to, the number of relatives they had on board, where they boarded the Titanic, etc. For each of these passengers, you are also told whether or not they survived the sinking of the Titanic. <br><br>Then, you are given another list of passengers. Your job is to find out which of them survived, based on your analysis of the first data set!</p>"
   ]
  },
  {
   "cell_type": "markdown",
   "metadata": {},
   "source": [
    "The data looks like this:"
   ]
  },
  {
   "cell_type": "markdown",
   "metadata": {},
   "source": [
    "|PassengerId|Survived|Pclass|Name             |Sex |Age|SibSp|Parch|Ticket   |Fare|Cabin|Embarked|\n",
    "|------------------------------------------------------------------------------------------------------|\n",
    "|1          |       0|     3|Braund, Mr. Owen Harris|male| 22|    1|    0|A/5 21171|7.25|     |       S|\n",
    "|2|1|1|Cumings, Mrs. John Bradley (Florence Briggs Thayer)|female|38|1|0|PC 17599|71.2833|C85|C|\n",
    "|3|1|3|Heikkinen, Miss. Laina|female|26|0|0|STON/O2. 3101282|7.925||S|\n",
    "|4|1|1|Futrelle, Mrs. Jacques Heath (Lily May Peel)|female|35|1|0|113803|53.1|C123|S|\n",
    "\n"
   ]
  },
  {
   "cell_type": "markdown",
   "metadata": {},
   "source": [
    "* The Pclass number is a proxy for social class\n",
    "* SibSp is equal to the number of siblings+spouse that were on the same trip\n",
    "* Similarly, Parch is the number of parents+children on the same trip\n",
    "* Embarked is which port the passenger embarked at."
   ]
  },
  {
   "cell_type": "markdown",
   "metadata": {},
   "source": [
    "<p><img src=\"figs/tworegions2.png\" align=\"right\" > \n",
    "\n",
    "**First thoughts**: As a visually thinking astrophysicist, my first conceptualization of this dataset is that it represents a bunch of points in a multi-dimensional space. Each dimension correspond to one of the columns in the dataset.\n",
    "<br><br>\n",
    "In this picture, the only way to tell survivors from dead passengers is if each group occupies one (or more than one!) separate region in this parameter space.\n",
    "<br><br>\n",
    "OK. So maybe this problem is so straightforward and these two populations (survivors and, let's call them \"deads\") occupy two distinct, non-overlaping regions in this parameter space. That's probably not the case, otherwise one would notice a hint of that just looking at the data, but let's test this hypothesis anyways. (In other words, I couldn't wait to test it, so I did!)\n",
    "<br><br>\n",
    "At the same time, I will get to start thinking about how to treat the data for the analysis</p>"
   ]
  },
  {
   "cell_type": "markdown",
   "metadata": {},
   "source": [
    "## Data Preparation\n",
    "\n",
    "First orded of business at this point, is that I need to decide how to treat all the different axes of our data. These include numerical values, text values, categories, etc:\n",
    "\n",
    "* Numerical parameters:\n",
    "    * Age\n",
    "    * Fare\n",
    "    * Pclass\n",
    "    * Parch\n",
    "    * SibSp\n",
    "* Category parameters:\n",
    "    * Gender\n",
    "    * Embarcation port\n",
    "* Text parameters:\n",
    "    * Name\n",
    "    * Cabin\n",
    "    * Ticket\n",
    "    \n",
    "So for my initial take(s), I decided to make a few selections, and then reconsider them later and widen my filters if I need to improve my results. The following fields were discarded:\n",
    "- I will not use the **ticket** field. Some of the ticket values are numbers, while others are alphanumerical strings, in more than one different formats. I decided I didn't want to do any string manipulation to map the ticket number onto a single axis.\n",
    "- For similar reasons, I will throw out the **name** field. I can imagine things to do with it, but let's leave it out for now.\n",
    "- I decided to not use the **embarcation port** field either, because at first I didn't know how to cast its values on an axis. After running much of the analysis, I have a better idea of how to do that.\n",
    "\n",
    "Which data did I use?\n",
    "- Age\n",
    "- Pclass\n",
    "- Gender\n",
    "- SibSP (Siblings+spouse)\n",
    "- Parch (Parents+children)\n",
    "- Fare"
   ]
  },
  {
   "cell_type": "markdown",
   "metadata": {},
   "source": [
    "I wanted to test the separated regions hypothesis in a very non-parametric way, as much as possible. This means that I want to make the fewest possible assumptions about the data, including the shapes of these regions."
   ]
  }
 ],
 "metadata": {
  "anaconda-cloud": {},
  "kernelspec": {
   "display_name": "Python 3",
   "language": "python",
   "name": "python3"
  },
  "language_info": {
   "codemirror_mode": {
    "name": "ipython",
    "version": 3
   },
   "file_extension": ".py",
   "mimetype": "text/x-python",
   "name": "python",
   "nbconvert_exporter": "python",
   "pygments_lexer": "ipython3",
   "version": "3.6.2"
  }
 },
 "nbformat": 4,
 "nbformat_minor": 1
}
